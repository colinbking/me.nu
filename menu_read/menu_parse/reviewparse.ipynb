{
 "cells": [
  {
   "cell_type": "code",
   "execution_count": 1,
   "metadata": {},
   "outputs": [],
   "source": [
    "import pandas as pd \n",
    "import time as t\n",
    "from lxml import html  \n",
    "import requests\n",
    "import json\n",
    "import numpy as np\n",
    "from timeit import default_timer as timer\n",
    "from itertools import cycle\n",
    "import string"
   ]
  },
  {
   "cell_type": "code",
   "execution_count": 2,
   "metadata": {},
   "outputs": [],
   "source": [
    "import math\n",
    "import copy"
   ]
  },
  {
   "cell_type": "code",
   "execution_count": 3,
   "metadata": {},
   "outputs": [],
   "source": [
    "%load_ext autoreload\n",
    "%autoreload 2"
   ]
  },
  {
   "cell_type": "code",
   "execution_count": 4,
   "metadata": {},
   "outputs": [],
   "source": [
    "import sys\n",
    "sys.path.append('../../')"
   ]
  },
  {
   "cell_type": "code",
   "execution_count": 5,
   "metadata": {},
   "outputs": [
    {
     "name": "stdout",
     "output_type": "stream",
     "text": [
      "/Users/michaelsprintson/Documents/GitHub/me.nu/menu_read\n"
     ]
    }
   ],
   "source": [
    "cd ~/Documents/GitHub/me.nu/menu_read"
   ]
  },
  {
   "cell_type": "code",
   "execution_count": 6,
   "metadata": {},
   "outputs": [],
   "source": [
    "food = True"
   ]
  },
  {
   "cell_type": "code",
   "execution_count": 7,
   "metadata": {},
   "outputs": [],
   "source": [
    "if food:\n",
    "    respage = 'https://www.yelp.com/biz/mala-sichuan-bistro-houston-3'\n",
    "    switch = 'food'\n",
    "    import ocr_food as ocr\n",
    "    import just_read_food as jr\n",
    "    pid = 'ChIJNc4K5cTCQIYRe9OyIN7DcGE'\n",
    "else:\n",
    "    respage = 'https://www.yelp.com/biz/sharetea-houston-2'\n",
    "    switch = 'tea'\n",
    "    import ocr_tea as ocr\n",
    "    import just_read_tea as jr\n",
    "    pid = 'ChIJjfzjCM_CQIYRPA546CYaE4A'"
   ]
  },
  {
   "cell_type": "markdown",
   "metadata": {},
   "source": [
    "# OCR FUNCTIONALITY TEST"
   ]
  },
  {
   "cell_type": "code",
   "execution_count": 8,
   "metadata": {},
   "outputs": [],
   "source": [
    "# pip install --upgrade google-cloud-vision"
   ]
  },
  {
   "cell_type": "code",
   "execution_count": 9,
   "metadata": {},
   "outputs": [],
   "source": [
    "# create dictionary\n",
    "pic_loc = 'ocr/menupictures/pic7.jpg'\n",
    "test_file_name = 'mala7'\n",
    "ocr.detect_text(pic_loc, test_file_name)"
   ]
  },
  {
   "cell_type": "code",
   "execution_count": 10,
   "metadata": {
    "scrolled": true
   },
   "outputs": [
    {
     "name": "stdout",
     "output_type": "stream",
     "text": [
      "32 32\n",
      "H1 Top Notch Pot the Outlaws 31.95\n",
      "H2 Sauerkraut Fish and Lamb Pot 24.95\n",
      "H3 Country Style Blood Curd Dish 14.95\n",
      "H4 Beef Pot 13.95\n",
      "H5 and Crispy Chicken 12.95\n",
      "H6 Duck Stew 12.95\n",
      "H7 Konjac Beef 12.95\n",
      "H8 Lotus Tofu 11.95\n",
      "H9 Three Pepper Beaten Duck 13.95\n",
      "H10 Tea Smoked Duck 13.95\n",
      "H11 Four Joy Lion Head 12.95\n",
      "H12 Fragrant Ribs 12.95\n",
      "F1 Northern Boiling Fish 20.95\n",
      "F2 Sauerkraut Fish Pot 20.95\n",
      "F3 Chengdu Style Pot Roasted Tilapia 18.95\n",
      "F4 Mala Pot Roasted Tilapia 18.95\n",
      "F5 Bean Curd Tilapia Stew 18.95\n",
      "F7 Pot Roasted Black Bean Tilapia 18.95\n",
      "F12 Steamed Tilapia 18.95\n",
      "F9 Sweet and Sour Crispy Tilapia 18.95\n",
      "F10 Scallion Pot Roasted Tilapia 18.95\n",
      "B1 Water Boiled Beef 13.95\n",
      "B2 Cumin Beef 13.95\n",
      "B3 Black Pepper Beef 13.95\n",
      "B4 Mala Beef Tofu 13.95\n",
      "B5 Mongolian Beef 13.95\n",
      "B6 Crispy Mala Beef 13.95\n",
      "B7 Baby Pepper Black Bean Beef 13.95\n",
      "B8 Baby Pepper and Shredded Beef 13.95\n",
      "B9 Satay Beef 13.95\n",
      "B12 Sauteed Lamb with Veggies 16.95\n",
      "B11 Cumin Lamb 16.95\n"
     ]
    },
    {
     "data": {
      "text/plain": [
       "{'H1 Top Notch Pot the Outlaws': 31.95,\n",
       " 'H2 Sauerkraut Fish and Lamb Pot': 24.95,\n",
       " 'H3 Country Style Blood Curd Dish': 14.95,\n",
       " 'H4 Beef Pot': 13.95,\n",
       " 'H5 and Crispy Chicken': 12.95,\n",
       " 'H6 Duck Stew': 12.95,\n",
       " 'H7 Konjac Beef': 12.95,\n",
       " 'H8 Lotus Tofu': 11.95,\n",
       " 'H9 Three Pepper Beaten Duck': 13.95,\n",
       " 'H10 Tea Smoked Duck': 13.95,\n",
       " 'H11 Four Joy Lion Head': 12.95,\n",
       " 'H12 Fragrant Ribs': 12.95,\n",
       " 'F1 Northern Boiling Fish': 20.95,\n",
       " 'F2 Sauerkraut Fish Pot': 20.95,\n",
       " 'F3 Chengdu Style Pot Roasted Tilapia': 18.95,\n",
       " 'F4 Mala Pot Roasted Tilapia': 18.95,\n",
       " 'F5 Bean Curd Tilapia Stew': 18.95,\n",
       " 'F7 Pot Roasted Black Bean Tilapia': 18.95,\n",
       " 'F12 Steamed Tilapia': 18.95,\n",
       " 'F9 Sweet and Sour Crispy Tilapia': 18.95,\n",
       " 'F10 Scallion Pot Roasted Tilapia': 18.95,\n",
       " 'B1 Water Boiled Beef': 13.95,\n",
       " 'B2 Cumin Beef': 13.95,\n",
       " 'B3 Black Pepper Beef': 13.95,\n",
       " 'B4 Mala Beef Tofu': 13.95,\n",
       " 'B5 Mongolian Beef': 13.95,\n",
       " 'B6 Crispy Mala Beef': 13.95,\n",
       " 'B7 Baby Pepper Black Bean Beef': 13.95,\n",
       " 'B8 Baby Pepper and Shredded Beef': 13.95,\n",
       " 'B9 Satay Beef': 13.95,\n",
       " 'B12 Sauteed Lamb with Veggies': 16.95,\n",
       " 'B11 Cumin Lamb': 16.95}"
      ]
     },
     "execution_count": 10,
     "metadata": {},
     "output_type": "execute_result"
    }
   ],
   "source": [
    "jr.final_dump(\"ocr/menu_tests/mala7.txt\", \"pref_sample.txt\", True, \"mala7\")"
   ]
  },
  {
   "cell_type": "markdown",
   "metadata": {},
   "source": [
    "# IMPORT RESTERAUNT REVIEWS"
   ]
  },
  {
   "cell_type": "markdown",
   "metadata": {},
   "source": [
    "## IMPORT YELP REVIEWS"
   ]
  },
  {
   "cell_type": "code",
   "execution_count": 11,
   "metadata": {},
   "outputs": [],
   "source": [
    "\n",
    "reviews_df=pd.DataFrame()\n",
    "  \n",
    "user_agent = 'Mozilla/5.0 (Macintosh; Intel Mac OS X 10_14_5) AppleWebKit/605.1.15 (KHTML, like Gecko) Version/13.0 Safari/605.1.15'\n",
    "webpage = ''\n",
    "nextpage = 'something'\n",
    "xpath_reviews = '//script[@type=\"application/ld+json\"]/text()'\n",
    "xpath_nextpage = '//link[@rel=\"next\"]'\n",
    "headers = {'User-Agent': user_agent}"
   ]
  },
  {
   "cell_type": "code",
   "execution_count": 12,
   "metadata": {},
   "outputs": [],
   "source": [
    "if food:\n",
    "    reviewdf = pd.read_json('menu_parse/bigmala')\n",
    "elif not food:\n",
    "    reviewdf = pd.read_json('menu_parse/sharetea')\n",
    "    s = lambda x: list(x.values())[0]\n",
    "    reviewdf['reviewRating'] = reviewdf['reviewRating'].apply(s)\n",
    "else:\n",
    "    reviewdf = pd.DataFrame()\n",
    "\n",
    "    while len(nextpage) > 0:\n",
    "        #print('1')\n",
    "        page = requests.get(webpage, headers = headers)#,proxies={\"http\": proxy, \"https\": proxy})\n",
    "        print('pagegot','\\r')\n",
    "        parser = html.fromstring(page.content)\n",
    "        reviews = parser.xpath(xpath_reviews)\n",
    "        nextpage = parser.xpath(xpath_nextpage)\n",
    "\n",
    "        if len(nextpage) > 0:\n",
    "            nextlink = nextpage[0].get('href')\n",
    "            print(nextlink, end = '\\r')\n",
    "            webpage = nextlink\n",
    "            y = json.loads(list(reviews)[0])['review']\n",
    "\n",
    "            reviewdict = {y.index(i):i for i in y}\n",
    "\n",
    "            reviewdf = pd.concat([reviewdf,pd.DataFrame(reviewdict).T])\n",
    "            \n",
    "    s = lambda x: list(x.values())[0]\n",
    "    reviewdf['reviewRating'] = reviewdf['reviewRating'].apply(s)"
   ]
  },
  {
   "cell_type": "markdown",
   "metadata": {},
   "source": [
    "## IMPORT GOOGLE REVIEWS"
   ]
  },
  {
   "cell_type": "markdown",
   "metadata": {},
   "source": [
    "#### todo: make place id google maps api modular through api call"
   ]
  },
  {
   "cell_type": "code",
   "execution_count": 13,
   "metadata": {},
   "outputs": [],
   "source": [
    "import googlemaps\n",
    "from datetime import datetime\n",
    "import requests"
   ]
  },
  {
   "cell_type": "code",
   "execution_count": 14,
   "metadata": {},
   "outputs": [],
   "source": [
    "gmapsapikey = json.load(open('menu_parse/gmapsapikey.json', 'r'))[0]"
   ]
  },
  {
   "cell_type": "code",
   "execution_count": 15,
   "metadata": {},
   "outputs": [],
   "source": [
    "url = f'https://maps.googleapis.com/maps/api/place/details/json?key={gmapsapikey}&place_id={pid}&fields=name,review'\n",
    "response = requests.get(url, headers=headers)\n"
   ]
  },
  {
   "cell_type": "code",
   "execution_count": 16,
   "metadata": {},
   "outputs": [],
   "source": [
    "googlereviewdict = json.loads(response.content.decode('utf-8'))['result']['reviews']\n",
    "googlereviewdict = {googlereviewdict.index(i):i for i in googlereviewdict}\n",
    "\n",
    "googlereviewdf = pd.DataFrame(googlereviewdict).T"
   ]
  },
  {
   "cell_type": "code",
   "execution_count": 17,
   "metadata": {},
   "outputs": [
    {
     "data": {
      "text/html": [
       "<div>\n",
       "<style scoped>\n",
       "    .dataframe tbody tr th:only-of-type {\n",
       "        vertical-align: middle;\n",
       "    }\n",
       "\n",
       "    .dataframe tbody tr th {\n",
       "        vertical-align: top;\n",
       "    }\n",
       "\n",
       "    .dataframe thead th {\n",
       "        text-align: right;\n",
       "    }\n",
       "</style>\n",
       "<table border=\"1\" class=\"dataframe\">\n",
       "  <thead>\n",
       "    <tr style=\"text-align: right;\">\n",
       "      <th></th>\n",
       "      <th>author</th>\n",
       "      <th>reviewRating</th>\n",
       "      <th>description</th>\n",
       "    </tr>\n",
       "  </thead>\n",
       "  <tbody>\n",
       "    <tr>\n",
       "      <th>0</th>\n",
       "      <td>Tristan &amp; Ashley Boyd</td>\n",
       "      <td>5</td>\n",
       "      <td>Hubby found Mala Sichuan on Yelp and sent it a...</td>\n",
       "    </tr>\n",
       "    <tr>\n",
       "      <th>1</th>\n",
       "      <td>Pat Patel</td>\n",
       "      <td>4</td>\n",
       "      <td>Very good traditional Chinese food. We definit...</td>\n",
       "    </tr>\n",
       "    <tr>\n",
       "      <th>2</th>\n",
       "      <td>Epiphany Animation Studios</td>\n",
       "      <td>3</td>\n",
       "      <td>It was alright. I think maybe they had an off ...</td>\n",
       "    </tr>\n",
       "    <tr>\n",
       "      <th>3</th>\n",
       "      <td>Na Li</td>\n",
       "      <td>4</td>\n",
       "      <td>I come here once a while, it used to one of my...</td>\n",
       "    </tr>\n",
       "    <tr>\n",
       "      <th>4</th>\n",
       "      <td>Russell Monroe</td>\n",
       "      <td>2</td>\n",
       "      <td>This review is for the Finn Hall location, but...</td>\n",
       "    </tr>\n",
       "  </tbody>\n",
       "</table>\n",
       "</div>"
      ],
      "text/plain": [
       "                       author reviewRating  \\\n",
       "0       Tristan & Ashley Boyd            5   \n",
       "1                   Pat Patel            4   \n",
       "2  Epiphany Animation Studios            3   \n",
       "3                       Na Li            4   \n",
       "4              Russell Monroe            2   \n",
       "\n",
       "                                         description  \n",
       "0  Hubby found Mala Sichuan on Yelp and sent it a...  \n",
       "1  Very good traditional Chinese food. We definit...  \n",
       "2  It was alright. I think maybe they had an off ...  \n",
       "3  I come here once a while, it used to one of my...  \n",
       "4  This review is for the Finn Hall location, but...  "
      ]
     },
     "execution_count": 17,
     "metadata": {},
     "output_type": "execute_result"
    }
   ],
   "source": [
    "googlereviewdf = googlereviewdf[['author_name','rating','text']]\n",
    "googlereviewdf.columns = ['author','reviewRating','description']\n",
    "googlereviewdf"
   ]
  },
  {
   "cell_type": "code",
   "execution_count": 18,
   "metadata": {},
   "outputs": [],
   "source": [
    "reviewdf = pd.concat([reviewdf,googlereviewdf],sort = False)"
   ]
  },
  {
   "cell_type": "code",
   "execution_count": 19,
   "metadata": {},
   "outputs": [],
   "source": [
    "reviewdf = reviewdf.reset_index().drop(['index'],axis=1)"
   ]
  },
  {
   "cell_type": "code",
   "execution_count": 20,
   "metadata": {},
   "outputs": [],
   "source": [
    "#reviewdf['reviewRating'] = reviewdf['reviewRating'].apply(lambda x:x['ratingValue'])\n",
    "reviewdf['description'] = reviewdf['description'].apply(lambda x:x.replace('\\n','').replace('-',' ').lower())\n",
    "reviewdf['description'] = reviewdf['description'].apply(lambda x:' '.join([i for i in x.split(\" \") if len(i)>2]))\n",
    "translator = str.maketrans(string.punctuation, ' '*len(string.punctuation)) #map punctuation to space\n",
    "reviewdf['description'] = reviewdf['description'].apply(lambda x:x.translate(translator)).apply(lambda x: ' '.join(x.split()))\n",
    "\n"
   ]
  },
  {
   "cell_type": "markdown",
   "metadata": {},
   "source": [
    "# GRAB MENU ITEMS"
   ]
  },
  {
   "cell_type": "code",
   "execution_count": 21,
   "metadata": {},
   "outputs": [],
   "source": [
    "menuitems = json.load(open('menuJSON/mala7.json'))\n",
    "if food:\n",
    "    menuitems = [x[3:].strip() for x in list(menuitems.keys())]\n",
    "menitems = [x.lower() for x in menuitems]"
   ]
  },
  {
   "cell_type": "markdown",
   "metadata": {},
   "source": [
    "## RANKING MENU ITEMS"
   ]
  },
  {
   "cell_type": "markdown",
   "metadata": {},
   "source": [
    "### sanity check of menu items"
   ]
  },
  {
   "cell_type": "code",
   "execution_count": 22,
   "metadata": {
    "scrolled": true
   },
   "outputs": [
    {
     "data": {
      "text/plain": [
       "['top notch pot the outlaws',\n",
       " 'sauerkraut fish and lamb pot',\n",
       " 'country style blood curd dish',\n",
       " 'beef pot',\n",
       " 'and crispy chicken',\n",
       " 'duck stew',\n",
       " 'konjac beef',\n",
       " 'lotus tofu',\n",
       " 'three pepper beaten duck',\n",
       " 'tea smoked duck',\n",
       " 'four joy lion head',\n",
       " 'fragrant ribs',\n",
       " 'northern boiling fish',\n",
       " 'sauerkraut fish pot',\n",
       " 'chengdu style pot roasted tilapia',\n",
       " 'mala pot roasted tilapia',\n",
       " 'bean curd tilapia stew',\n",
       " 'pot roasted black bean tilapia',\n",
       " 'steamed tilapia',\n",
       " 'sweet and sour crispy tilapia',\n",
       " 'scallion pot roasted tilapia',\n",
       " 'water boiled beef',\n",
       " 'cumin beef',\n",
       " 'black pepper beef',\n",
       " 'mala beef tofu',\n",
       " 'mongolian beef',\n",
       " 'crispy mala beef',\n",
       " 'baby pepper black bean beef',\n",
       " 'baby pepper and shredded beef',\n",
       " 'satay beef',\n",
       " 'sauteed lamb with veggies',\n",
       " 'cumin lamb']"
      ]
     },
     "execution_count": 22,
     "metadata": {},
     "output_type": "execute_result"
    }
   ],
   "source": [
    "menitems"
   ]
  },
  {
   "cell_type": "code",
   "execution_count": 23,
   "metadata": {},
   "outputs": [],
   "source": [
    "search = lambda x: [menitem for menitem in menitems if menitem[:math.floor(0.8*len(menitem))] in x]\n",
    "reviewdf['containedMenuItems'] = reviewdf['description'].apply(search)"
   ]
  },
  {
   "cell_type": "code",
   "execution_count": 24,
   "metadata": {},
   "outputs": [],
   "source": [
    "menitemstoreviews = {}\n",
    "for menitem in menitems:\n",
    "    menitemstoreviews[menitem] = [{},list(reviewdf[reviewdf['containedMenuItems'].map(lambda d: menitem in d)].index)]"
   ]
  },
  {
   "cell_type": "code",
   "execution_count": 25,
   "metadata": {},
   "outputs": [],
   "source": [
    "\n",
    "def compute(itor,ref):\n",
    "    #total number of 4 plus reviews\n",
    "    tot4plusreviews = len(ref[ref['reviewRating'] >= 4])\n",
    "    for item in itor:\n",
    "        #print(item,'------',end = '')\n",
    "        allratings = []\n",
    "        fourpluscounter = 0\n",
    "        twominuscounter = 0\n",
    "        totalrev = len(itor[item][1])\n",
    "\n",
    "        for rev in itor[item][1]:\n",
    "            curstar = ref.iloc[rev]['reviewRating']\n",
    "            allratings.append(curstar)\n",
    "            if curstar >= 4:\n",
    "                fourpluscounter += 1\n",
    "            elif curstar <= 2:\n",
    "                twominuscounter += 1\n",
    "        if not totalrev == 0:\n",
    "            itor[item][0]['extremerev'] = (fourpluscounter - twominuscounter) / (2 * totalrev)\n",
    "        else:\n",
    "            itor[item][0]['extremerev'] = 0\n",
    "        itor[item][0]['percentageoftotalreviews'] = 8.5 * (fourpluscounter) / tot4plusreviews\n",
    "\n",
    "        if not len(allratings) == 0:\n",
    "            itor[item][0]['avgrev'] = sum(allratings)/(5 * len(allratings))\n",
    "            #print('av rating',sum(allratings)/len(allratings))\n",
    "        else:\n",
    "            itor[item][0]['avgrev'] = 0\n",
    "            #print('no reviews')\n",
    "    return itor\n",
    "menitemstoreviews = compute(menitemstoreviews,reviewdf)"
   ]
  },
  {
   "cell_type": "code",
   "execution_count": 26,
   "metadata": {},
   "outputs": [
    {
     "data": {
      "text/plain": [
       "water boiled beef                    2.678521\n",
       "cumin beef                           2.092424\n",
       "and crispy chicken                   1.673229\n",
       "cumin lamb                           1.621688\n",
       "mala pot roasted tilapia             1.574015\n",
       "three pepper beaten duck             1.565230\n",
       "steamed tilapia                      1.543966\n",
       "chengdu style pot roasted tilapia    1.529310\n",
       "mongolian beef                       1.525172\n",
       "black pepper beef                    1.517241\n",
       "sauerkraut fish pot                  1.514655\n",
       "satay beef                           1.514655\n",
       "baby pepper and shredded beef        1.514655\n",
       "sweet and sour crispy tilapia        1.514655\n",
       "four joy lion head                   1.477299\n",
       "crispy mala beef                     1.472947\n",
       "tea smoked duck                      1.465405\n",
       "top notch pot the outlaws            1.458621\n",
       "northern boiling fish                1.429310\n",
       "mala beef tofu                       1.413218\n",
       "country style blood curd dish        1.329310\n",
       "fragrant ribs                        1.268966\n",
       "lotus tofu                           1.168966\n",
       "duck stew                            0.929310\n",
       "beef pot                             0.858621\n",
       "baby pepper black bean beef          0.714655\n",
       "sauteed lamb with veggies            0.000000\n",
       "bean curd tilapia stew               0.000000\n",
       "pot roasted black bean tilapia       0.000000\n",
       "scallion pot roasted tilapia         0.000000\n",
       "konjac beef                          0.000000\n",
       "sauerkraut fish and lamb pot         0.000000\n",
       "Name: totalscore, dtype: float64"
      ]
     },
     "execution_count": 26,
     "metadata": {},
     "output_type": "execute_result"
    }
   ],
   "source": [
    "itemratings = pd.DataFrame(menitemstoreviews).T\n",
    "itemratings.columns = ['ratings','indexes']\n",
    "\n",
    "itemratings['totalscore'] = itemratings['ratings'].apply(lambda x: sum(x.values()))\n",
    "\n",
    "itemratings['totalscore'].sort_values(ascending = False)"
   ]
  },
  {
   "cell_type": "code",
   "execution_count": 27,
   "metadata": {},
   "outputs": [
    {
     "data": {
      "text/html": [
       "<div>\n",
       "<style scoped>\n",
       "    .dataframe tbody tr th:only-of-type {\n",
       "        vertical-align: middle;\n",
       "    }\n",
       "\n",
       "    .dataframe tbody tr th {\n",
       "        vertical-align: top;\n",
       "    }\n",
       "\n",
       "    .dataframe thead th {\n",
       "        text-align: right;\n",
       "    }\n",
       "</style>\n",
       "<table border=\"1\" class=\"dataframe\">\n",
       "  <thead>\n",
       "    <tr style=\"text-align: right;\">\n",
       "      <th></th>\n",
       "      <th>ratings</th>\n",
       "      <th>indexes</th>\n",
       "      <th>totalscore</th>\n",
       "    </tr>\n",
       "  </thead>\n",
       "  <tbody>\n",
       "    <tr>\n",
       "      <th>top notch pot the outlaws</th>\n",
       "      <td>{'extremerev': 0.5, 'percentageoftotalreviews'...</td>\n",
       "      <td>[98, 131, 416, 515]</td>\n",
       "      <td>1.458621</td>\n",
       "    </tr>\n",
       "    <tr>\n",
       "      <th>sauerkraut fish and lamb pot</th>\n",
       "      <td>{'extremerev': 0, 'percentageoftotalreviews': ...</td>\n",
       "      <td>[]</td>\n",
       "      <td>0.000000</td>\n",
       "    </tr>\n",
       "    <tr>\n",
       "      <th>country style blood curd dish</th>\n",
       "      <td>{'extremerev': 0.5, 'percentageoftotalreviews'...</td>\n",
       "      <td>[416, 438]</td>\n",
       "      <td>1.329310</td>\n",
       "    </tr>\n",
       "    <tr>\n",
       "      <th>beef pot</th>\n",
       "      <td>{'extremerev': 0.14285714285714285, 'percentag...</td>\n",
       "      <td>[252, 353, 392, 502, 554, 605, 714]</td>\n",
       "      <td>0.858621</td>\n",
       "    </tr>\n",
       "    <tr>\n",
       "      <th>and crispy chicken</th>\n",
       "      <td>{'extremerev': 0.3918918918918919, 'percentage...</td>\n",
       "      <td>[11, 29, 38, 48, 66, 94, 101, 102, 104, 113, 1...</td>\n",
       "      <td>1.673229</td>\n",
       "    </tr>\n",
       "    <tr>\n",
       "      <th>duck stew</th>\n",
       "      <td>{'extremerev': 0.16666666666666666, 'percentag...</td>\n",
       "      <td>[162, 214, 625]</td>\n",
       "      <td>0.929310</td>\n",
       "    </tr>\n",
       "    <tr>\n",
       "      <th>konjac beef</th>\n",
       "      <td>{'extremerev': 0, 'percentageoftotalreviews': ...</td>\n",
       "      <td>[]</td>\n",
       "      <td>0.000000</td>\n",
       "    </tr>\n",
       "    <tr>\n",
       "      <th>lotus tofu</th>\n",
       "      <td>{'extremerev': 0.375, 'percentageoftotalreview...</td>\n",
       "      <td>[64, 88, 180, 318]</td>\n",
       "      <td>1.168966</td>\n",
       "    </tr>\n",
       "    <tr>\n",
       "      <th>three pepper beaten duck</th>\n",
       "      <td>{'extremerev': 0.5, 'percentageoftotalreviews'...</td>\n",
       "      <td>[103, 349, 486, 539, 628, 653, 655, 671, 739]</td>\n",
       "      <td>1.565230</td>\n",
       "    </tr>\n",
       "    <tr>\n",
       "      <th>tea smoked duck</th>\n",
       "      <td>{'extremerev': 0.3695652173913043, 'percentage...</td>\n",
       "      <td>[31, 42, 64, 113, 116, 172, 212, 227, 237, 257...</td>\n",
       "      <td>1.465405</td>\n",
       "    </tr>\n",
       "    <tr>\n",
       "      <th>four joy lion head</th>\n",
       "      <td>{'extremerev': 0.5, 'percentageoftotalreviews'...</td>\n",
       "      <td>[351, 554, 674]</td>\n",
       "      <td>1.477299</td>\n",
       "    </tr>\n",
       "    <tr>\n",
       "      <th>fragrant ribs</th>\n",
       "      <td>{'extremerev': 0.375, 'percentageoftotalreview...</td>\n",
       "      <td>[69, 109, 223, 312]</td>\n",
       "      <td>1.268966</td>\n",
       "    </tr>\n",
       "    <tr>\n",
       "      <th>northern boiling fish</th>\n",
       "      <td>{'extremerev': 0.5, 'percentageoftotalreviews'...</td>\n",
       "      <td>[257, 472]</td>\n",
       "      <td>1.429310</td>\n",
       "    </tr>\n",
       "    <tr>\n",
       "      <th>sauerkraut fish pot</th>\n",
       "      <td>{'extremerev': 0.5, 'percentageoftotalreviews'...</td>\n",
       "      <td>[118]</td>\n",
       "      <td>1.514655</td>\n",
       "    </tr>\n",
       "    <tr>\n",
       "      <th>chengdu style pot roasted tilapia</th>\n",
       "      <td>{'extremerev': 0.5, 'percentageoftotalreviews'...</td>\n",
       "      <td>[349, 640]</td>\n",
       "      <td>1.529310</td>\n",
       "    </tr>\n",
       "    <tr>\n",
       "      <th>mala pot roasted tilapia</th>\n",
       "      <td>{'extremerev': 0.5, 'percentageoftotalreviews'...</td>\n",
       "      <td>[12, 69, 131, 164, 222, 307, 500]</td>\n",
       "      <td>1.574015</td>\n",
       "    </tr>\n",
       "    <tr>\n",
       "      <th>bean curd tilapia stew</th>\n",
       "      <td>{'extremerev': 0, 'percentageoftotalreviews': ...</td>\n",
       "      <td>[]</td>\n",
       "      <td>0.000000</td>\n",
       "    </tr>\n",
       "    <tr>\n",
       "      <th>pot roasted black bean tilapia</th>\n",
       "      <td>{'extremerev': 0, 'percentageoftotalreviews': ...</td>\n",
       "      <td>[]</td>\n",
       "      <td>0.000000</td>\n",
       "    </tr>\n",
       "    <tr>\n",
       "      <th>steamed tilapia</th>\n",
       "      <td>{'extremerev': 0.5, 'percentageoftotalreviews'...</td>\n",
       "      <td>[166, 214, 733]</td>\n",
       "      <td>1.543966</td>\n",
       "    </tr>\n",
       "    <tr>\n",
       "      <th>sweet and sour crispy tilapia</th>\n",
       "      <td>{'extremerev': 0.5, 'percentageoftotalreviews'...</td>\n",
       "      <td>[217]</td>\n",
       "      <td>1.514655</td>\n",
       "    </tr>\n",
       "    <tr>\n",
       "      <th>scallion pot roasted tilapia</th>\n",
       "      <td>{'extremerev': 0, 'percentageoftotalreviews': ...</td>\n",
       "      <td>[]</td>\n",
       "      <td>0.000000</td>\n",
       "    </tr>\n",
       "    <tr>\n",
       "      <th>water boiled beef</th>\n",
       "      <td>{'extremerev': 0.42990654205607476, 'percentag...</td>\n",
       "      <td>[0, 6, 14, 15, 17, 29, 35, 39, 43, 48, 50, 58,...</td>\n",
       "      <td>2.678521</td>\n",
       "    </tr>\n",
       "    <tr>\n",
       "      <th>cumin beef</th>\n",
       "      <td>{'extremerev': 0.4090909090909091, 'percentage...</td>\n",
       "      <td>[5, 18, 22, 42, 57, 78, 81, 94, 95, 98, 113, 1...</td>\n",
       "      <td>2.092424</td>\n",
       "    </tr>\n",
       "    <tr>\n",
       "      <th>black pepper beef</th>\n",
       "      <td>{'extremerev': 0.5, 'percentageoftotalreviews'...</td>\n",
       "      <td>[84, 164, 177, 323, 337, 359, 383, 554]</td>\n",
       "      <td>1.517241</td>\n",
       "    </tr>\n",
       "    <tr>\n",
       "      <th>mala beef tofu</th>\n",
       "      <td>{'extremerev': 0.4166666666666667, 'percentage...</td>\n",
       "      <td>[126, 131, 207, 217, 220, 223, 278, 346, 350, ...</td>\n",
       "      <td>1.413218</td>\n",
       "    </tr>\n",
       "    <tr>\n",
       "      <th>mongolian beef</th>\n",
       "      <td>{'extremerev': 0.4666666666666667, 'percentage...</td>\n",
       "      <td>[13, 18, 75, 84, 183, 190, 234, 237, 253, 266,...</td>\n",
       "      <td>1.525172</td>\n",
       "    </tr>\n",
       "    <tr>\n",
       "      <th>crispy mala beef</th>\n",
       "      <td>{'extremerev': 0.35714285714285715, 'percentag...</td>\n",
       "      <td>[47, 92, 97, 109, 134, 159, 168, 206, 209, 223...</td>\n",
       "      <td>1.472947</td>\n",
       "    </tr>\n",
       "    <tr>\n",
       "      <th>baby pepper black bean beef</th>\n",
       "      <td>{'extremerev': 0.0, 'percentageoftotalreviews'...</td>\n",
       "      <td>[222, 298]</td>\n",
       "      <td>0.714655</td>\n",
       "    </tr>\n",
       "    <tr>\n",
       "      <th>baby pepper and shredded beef</th>\n",
       "      <td>{'extremerev': 0.5, 'percentageoftotalreviews'...</td>\n",
       "      <td>[568]</td>\n",
       "      <td>1.514655</td>\n",
       "    </tr>\n",
       "    <tr>\n",
       "      <th>satay beef</th>\n",
       "      <td>{'extremerev': 0.5, 'percentageoftotalreviews'...</td>\n",
       "      <td>[687]</td>\n",
       "      <td>1.514655</td>\n",
       "    </tr>\n",
       "    <tr>\n",
       "      <th>sauteed lamb with veggies</th>\n",
       "      <td>{'extremerev': 0, 'percentageoftotalreviews': ...</td>\n",
       "      <td>[]</td>\n",
       "      <td>0.000000</td>\n",
       "    </tr>\n",
       "    <tr>\n",
       "      <th>cumin lamb</th>\n",
       "      <td>{'extremerev': 0.47368421052631576, 'percentag...</td>\n",
       "      <td>[16, 35, 79, 120, 131, 167, 180, 200, 230, 253...</td>\n",
       "      <td>1.621688</td>\n",
       "    </tr>\n",
       "  </tbody>\n",
       "</table>\n",
       "</div>"
      ],
      "text/plain": [
       "                                                                             ratings  \\\n",
       "top notch pot the outlaws          {'extremerev': 0.5, 'percentageoftotalreviews'...   \n",
       "sauerkraut fish and lamb pot       {'extremerev': 0, 'percentageoftotalreviews': ...   \n",
       "country style blood curd dish      {'extremerev': 0.5, 'percentageoftotalreviews'...   \n",
       "beef pot                           {'extremerev': 0.14285714285714285, 'percentag...   \n",
       "and crispy chicken                 {'extremerev': 0.3918918918918919, 'percentage...   \n",
       "duck stew                          {'extremerev': 0.16666666666666666, 'percentag...   \n",
       "konjac beef                        {'extremerev': 0, 'percentageoftotalreviews': ...   \n",
       "lotus tofu                         {'extremerev': 0.375, 'percentageoftotalreview...   \n",
       "three pepper beaten duck           {'extremerev': 0.5, 'percentageoftotalreviews'...   \n",
       "tea smoked duck                    {'extremerev': 0.3695652173913043, 'percentage...   \n",
       "four joy lion head                 {'extremerev': 0.5, 'percentageoftotalreviews'...   \n",
       "fragrant ribs                      {'extremerev': 0.375, 'percentageoftotalreview...   \n",
       "northern boiling fish              {'extremerev': 0.5, 'percentageoftotalreviews'...   \n",
       "sauerkraut fish pot                {'extremerev': 0.5, 'percentageoftotalreviews'...   \n",
       "chengdu style pot roasted tilapia  {'extremerev': 0.5, 'percentageoftotalreviews'...   \n",
       "mala pot roasted tilapia           {'extremerev': 0.5, 'percentageoftotalreviews'...   \n",
       "bean curd tilapia stew             {'extremerev': 0, 'percentageoftotalreviews': ...   \n",
       "pot roasted black bean tilapia     {'extremerev': 0, 'percentageoftotalreviews': ...   \n",
       "steamed tilapia                    {'extremerev': 0.5, 'percentageoftotalreviews'...   \n",
       "sweet and sour crispy tilapia      {'extremerev': 0.5, 'percentageoftotalreviews'...   \n",
       "scallion pot roasted tilapia       {'extremerev': 0, 'percentageoftotalreviews': ...   \n",
       "water boiled beef                  {'extremerev': 0.42990654205607476, 'percentag...   \n",
       "cumin beef                         {'extremerev': 0.4090909090909091, 'percentage...   \n",
       "black pepper beef                  {'extremerev': 0.5, 'percentageoftotalreviews'...   \n",
       "mala beef tofu                     {'extremerev': 0.4166666666666667, 'percentage...   \n",
       "mongolian beef                     {'extremerev': 0.4666666666666667, 'percentage...   \n",
       "crispy mala beef                   {'extremerev': 0.35714285714285715, 'percentag...   \n",
       "baby pepper black bean beef        {'extremerev': 0.0, 'percentageoftotalreviews'...   \n",
       "baby pepper and shredded beef      {'extremerev': 0.5, 'percentageoftotalreviews'...   \n",
       "satay beef                         {'extremerev': 0.5, 'percentageoftotalreviews'...   \n",
       "sauteed lamb with veggies          {'extremerev': 0, 'percentageoftotalreviews': ...   \n",
       "cumin lamb                         {'extremerev': 0.47368421052631576, 'percentag...   \n",
       "\n",
       "                                                                             indexes  \\\n",
       "top notch pot the outlaws                                        [98, 131, 416, 515]   \n",
       "sauerkraut fish and lamb pot                                                      []   \n",
       "country style blood curd dish                                             [416, 438]   \n",
       "beef pot                                         [252, 353, 392, 502, 554, 605, 714]   \n",
       "and crispy chicken                 [11, 29, 38, 48, 66, 94, 101, 102, 104, 113, 1...   \n",
       "duck stew                                                            [162, 214, 625]   \n",
       "konjac beef                                                                       []   \n",
       "lotus tofu                                                        [64, 88, 180, 318]   \n",
       "three pepper beaten duck               [103, 349, 486, 539, 628, 653, 655, 671, 739]   \n",
       "tea smoked duck                    [31, 42, 64, 113, 116, 172, 212, 227, 237, 257...   \n",
       "four joy lion head                                                   [351, 554, 674]   \n",
       "fragrant ribs                                                    [69, 109, 223, 312]   \n",
       "northern boiling fish                                                     [257, 472]   \n",
       "sauerkraut fish pot                                                            [118]   \n",
       "chengdu style pot roasted tilapia                                         [349, 640]   \n",
       "mala pot roasted tilapia                           [12, 69, 131, 164, 222, 307, 500]   \n",
       "bean curd tilapia stew                                                            []   \n",
       "pot roasted black bean tilapia                                                    []   \n",
       "steamed tilapia                                                      [166, 214, 733]   \n",
       "sweet and sour crispy tilapia                                                  [217]   \n",
       "scallion pot roasted tilapia                                                      []   \n",
       "water boiled beef                  [0, 6, 14, 15, 17, 29, 35, 39, 43, 48, 50, 58,...   \n",
       "cumin beef                         [5, 18, 22, 42, 57, 78, 81, 94, 95, 98, 113, 1...   \n",
       "black pepper beef                            [84, 164, 177, 323, 337, 359, 383, 554]   \n",
       "mala beef tofu                     [126, 131, 207, 217, 220, 223, 278, 346, 350, ...   \n",
       "mongolian beef                     [13, 18, 75, 84, 183, 190, 234, 237, 253, 266,...   \n",
       "crispy mala beef                   [47, 92, 97, 109, 134, 159, 168, 206, 209, 223...   \n",
       "baby pepper black bean beef                                               [222, 298]   \n",
       "baby pepper and shredded beef                                                  [568]   \n",
       "satay beef                                                                     [687]   \n",
       "sauteed lamb with veggies                                                         []   \n",
       "cumin lamb                         [16, 35, 79, 120, 131, 167, 180, 200, 230, 253...   \n",
       "\n",
       "                                   totalscore  \n",
       "top notch pot the outlaws            1.458621  \n",
       "sauerkraut fish and lamb pot         0.000000  \n",
       "country style blood curd dish        1.329310  \n",
       "beef pot                             0.858621  \n",
       "and crispy chicken                   1.673229  \n",
       "duck stew                            0.929310  \n",
       "konjac beef                          0.000000  \n",
       "lotus tofu                           1.168966  \n",
       "three pepper beaten duck             1.565230  \n",
       "tea smoked duck                      1.465405  \n",
       "four joy lion head                   1.477299  \n",
       "fragrant ribs                        1.268966  \n",
       "northern boiling fish                1.429310  \n",
       "sauerkraut fish pot                  1.514655  \n",
       "chengdu style pot roasted tilapia    1.529310  \n",
       "mala pot roasted tilapia             1.574015  \n",
       "bean curd tilapia stew               0.000000  \n",
       "pot roasted black bean tilapia       0.000000  \n",
       "steamed tilapia                      1.543966  \n",
       "sweet and sour crispy tilapia        1.514655  \n",
       "scallion pot roasted tilapia         0.000000  \n",
       "water boiled beef                    2.678521  \n",
       "cumin beef                           2.092424  \n",
       "black pepper beef                    1.517241  \n",
       "mala beef tofu                       1.413218  \n",
       "mongolian beef                       1.525172  \n",
       "crispy mala beef                     1.472947  \n",
       "baby pepper black bean beef          0.714655  \n",
       "baby pepper and shredded beef        1.514655  \n",
       "satay beef                           1.514655  \n",
       "sauteed lamb with veggies            0.000000  \n",
       "cumin lamb                           1.621688  "
      ]
     },
     "execution_count": 27,
     "metadata": {},
     "output_type": "execute_result"
    }
   ],
   "source": [
    "itemratings"
   ]
  },
  {
   "cell_type": "markdown",
   "metadata": {},
   "source": [
    "# WIP / TESTING"
   ]
  },
  {
   "cell_type": "code",
   "execution_count": 28,
   "metadata": {},
   "outputs": [],
   "source": [
    "# itemratings.loc['water boiled beef']['ratings']\n",
    "\n",
    "# reviewdf[reviewdf['description'].map(lambda d: 'okinawa pearl milk tea' in d)]\n",
    "\n",
    "\n",
    "\n",
    "# reviewdf.iloc[548]['description']\n",
    "\n",
    "\n",
    "\n",
    "# pd.DataFrame(menitemstoreviews).T\n",
    "\n",
    "# reviewdf[reviewdf['author']=='Tristan & Ashley Boyd']\n",
    "\n",
    "# reviewdf.iloc[473]['description']\n",
    "\n",
    "\n",
    "\n",
    "\n",
    "\n",
    "\n",
    "\n",
    "# #reviewdf.to_json('bigmala')"
   ]
  },
  {
   "cell_type": "markdown",
   "metadata": {},
   "source": [
    "# USER PREFERENCES"
   ]
  },
  {
   "cell_type": "markdown",
   "metadata": {},
   "source": [
    "## IMPORT USER REVIEWS"
   ]
  },
  {
   "cell_type": "code",
   "execution_count": 29,
   "metadata": {},
   "outputs": [],
   "source": [
    "userpage = 'https://www.yelp.com/user_details_reviews_self?rec_pagestart=0&userid=2fKJeKlPi9le_ta7DPVW_A'\n",
    "def wikiscrape(link):\n",
    "    unextpage = 'something'\n",
    "    userreviewdf = pd.DataFrame()\n",
    "\n",
    "    upath_reviews = '//p[@lang=\"en\"]//node()'\n",
    "    upath_nextpage = '//a[@class=\"u-decoration-none next pagination-links_anchor\"]'\n",
    "    upath_starrating = '//div[@class=\"biz-rating__stars\"]//div'\n",
    "\n",
    "    while len(unextpage) > 0:\n",
    "\n",
    "        userpage = requests.get(userpage, headers = headers)#,proxies={\"http\": proxy, \"https\": proxy})\n",
    "\n",
    "        uparser = html.fromstring(userpage.content)\n",
    "\n",
    "        ureviews = uparser.xpath(upath_reviews)\n",
    "\n",
    "        unextpage = uparser.xpath(upath_nextpage)\n",
    "\n",
    "        if len(unextpage) > 0:\n",
    "            print(unextpage)\n",
    "            userpage = unextpage[0].get('href')\n",
    "        ustarratingpath = uparser.xpath(upath_starrating)\n",
    "\n",
    "        ureviews = [str(i) if not \"Element br\" in str(i) else 0 for i in ureviews ]\n",
    "\n",
    "        ufullreviews = grabfullreviws(ureviews)\n",
    "\n",
    "        fullstars = [i.get('title') for i in ustarratingpath]\n",
    "\n",
    "        userreviewdf = pd.concat([userreviewdf,pd.DataFrame(list(zip(fullstars,ufullreviews)))])\n",
    "#userreviewdf = wikiscrape(username)"
   ]
  },
  {
   "cell_type": "code",
   "execution_count": 30,
   "metadata": {},
   "outputs": [],
   "source": [
    "#userreviewdf = userreviewdf.reset_index().drop(['index'],axis = 1)\n",
    "\n",
    "userreviewdf = pd.read_json('userreviews')"
   ]
  },
  {
   "cell_type": "code",
   "execution_count": 31,
   "metadata": {},
   "outputs": [],
   "source": [
    "userreviewdf.columns = ['reviewRating','description']\n",
    "userreviewdf['reviewRating'] = userreviewdf['reviewRating'].apply(lambda x: int(x[0:1]))\n",
    "reviewdf['description'] = reviewdf['description'].apply(lambda x:x.replace('\\n','').replace('-',' ').lower())\n",
    "reviewdf['description'] = reviewdf['description'].apply(lambda x:' '.join([i for i in x.split(\" \") if len(i)>2]))\n",
    "translator = str.maketrans(string.punctuation, ' '*len(string.punctuation)) #map punctuation to space\n",
    "reviewdf['description'] = reviewdf['description'].apply(lambda x:x.translate(translator)).apply(lambda x: ' '.join(x.split()))\n",
    "\n",
    "\n"
   ]
  },
  {
   "cell_type": "code",
   "execution_count": 32,
   "metadata": {},
   "outputs": [
    {
     "data": {
      "text/html": [
       "<div>\n",
       "<style scoped>\n",
       "    .dataframe tbody tr th:only-of-type {\n",
       "        vertical-align: middle;\n",
       "    }\n",
       "\n",
       "    .dataframe tbody tr th {\n",
       "        vertical-align: top;\n",
       "    }\n",
       "\n",
       "    .dataframe thead th {\n",
       "        text-align: right;\n",
       "    }\n",
       "</style>\n",
       "<table border=\"1\" class=\"dataframe\">\n",
       "  <thead>\n",
       "    <tr style=\"text-align: right;\">\n",
       "      <th></th>\n",
       "      <th>reviewRating</th>\n",
       "      <th>description</th>\n",
       "    </tr>\n",
       "  </thead>\n",
       "  <tbody>\n",
       "    <tr>\n",
       "      <th>0</th>\n",
       "      <td>4</td>\n",
       "      <td>Leave a yelp review for free boba</td>\n",
       "    </tr>\n",
       "    <tr>\n",
       "      <th>1</th>\n",
       "      <td>5</td>\n",
       "      <td>TL;DR: An affordable apartment complex with gr...</td>\n",
       "    </tr>\n",
       "    <tr>\n",
       "      <th>10</th>\n",
       "      <td>5</td>\n",
       "      <td>I'm writing this review because I noticed that...</td>\n",
       "    </tr>\n",
       "    <tr>\n",
       "      <th>11</th>\n",
       "      <td>2</td>\n",
       "      <td>TLDR: Over rated Mediterranean cuisine with de...</td>\n",
       "    </tr>\n",
       "    <tr>\n",
       "      <th>12</th>\n",
       "      <td>3</td>\n",
       "      <td>I came in here initially about to order a burg...</td>\n",
       "    </tr>\n",
       "  </tbody>\n",
       "</table>\n",
       "</div>"
      ],
      "text/plain": [
       "    reviewRating                                        description\n",
       "0              4                  Leave a yelp review for free boba\n",
       "1              5  TL;DR: An affordable apartment complex with gr...\n",
       "10             5  I'm writing this review because I noticed that...\n",
       "11             2  TLDR: Over rated Mediterranean cuisine with de...\n",
       "12             3  I came in here initially about to order a burg..."
      ]
     },
     "execution_count": 32,
     "metadata": {},
     "output_type": "execute_result"
    }
   ],
   "source": [
    "userreviewdf.head()"
   ]
  },
  {
   "cell_type": "markdown",
   "metadata": {},
   "source": [
    "## scrape wikipedia for chinese foods (only run once, save results as JSON)"
   ]
  },
  {
   "cell_type": "code",
   "execution_count": 33,
   "metadata": {},
   "outputs": [],
   "source": [
    "from bs4 import BeautifulSoup"
   ]
  },
  {
   "cell_type": "code",
   "execution_count": 34,
   "metadata": {},
   "outputs": [],
   "source": [
    "\n",
    "wikipage = 'https://en.wikipedia.org/wiki/List_of_Chinese_dishes'\n",
    "wikipage = requests.get(wikipage).text\n",
    "wikidf = pd.DataFrame()\n",
    "\n",
    "soup = BeautifulSoup(wikipage)\n",
    "\n",
    "my_tables = soup.findAll('table',{'class':'wikitable'})\n"
   ]
  },
  {
   "cell_type": "code",
   "execution_count": 35,
   "metadata": {},
   "outputs": [],
   "source": [
    "chinesefoods = []\n",
    "for table in my_tables:\n",
    "    alla = list(table.findAll('a'))\n",
    "    chinesefoods = chinesefoods +[x for x in[alla[i].get('title') for i in range(len(alla))] if type(x) == str]"
   ]
  },
  {
   "cell_type": "code",
   "execution_count": 36,
   "metadata": {},
   "outputs": [],
   "source": [
    "from nltk.corpus import wordnet as wn\n",
    "allfoods = list(set([w for s in wn.synset('food.n.02').closure(lambda s:s.hyponyms()) for w in s.lemma_names()])) + chinesefoods"
   ]
  },
  {
   "cell_type": "code",
   "execution_count": 37,
   "metadata": {},
   "outputs": [],
   "source": [
    "allfoods = [x.lower() for x in allfoods]"
   ]
  },
  {
   "cell_type": "code",
   "execution_count": 51,
   "metadata": {},
   "outputs": [],
   "source": [
    "with open('allfoods.json', 'w') as f:\n",
    "    json.dump(allfoods, f)"
   ]
  },
  {
   "cell_type": "markdown",
   "metadata": {},
   "source": [
    "## food preferences by users reviews"
   ]
  },
  {
   "cell_type": "code",
   "execution_count": 39,
   "metadata": {},
   "outputs": [],
   "source": [
    "search = lambda x: [food for food in allfoods if food in x]\n",
    "\n",
    "userreviewdf['containedFood'] = userreviewdf['description'].apply(search)"
   ]
  },
  {
   "cell_type": "code",
   "execution_count": 40,
   "metadata": {},
   "outputs": [
    {
     "data": {
      "text/html": [
       "<div>\n",
       "<style scoped>\n",
       "    .dataframe tbody tr th:only-of-type {\n",
       "        vertical-align: middle;\n",
       "    }\n",
       "\n",
       "    .dataframe tbody tr th {\n",
       "        vertical-align: top;\n",
       "    }\n",
       "\n",
       "    .dataframe thead th {\n",
       "        text-align: right;\n",
       "    }\n",
       "</style>\n",
       "<table border=\"1\" class=\"dataframe\">\n",
       "  <thead>\n",
       "    <tr style=\"text-align: right;\">\n",
       "      <th></th>\n",
       "      <th>reviewRating</th>\n",
       "      <th>description</th>\n",
       "      <th>containedFood</th>\n",
       "    </tr>\n",
       "  </thead>\n",
       "  <tbody>\n",
       "    <tr>\n",
       "      <th>0</th>\n",
       "      <td>4</td>\n",
       "      <td>Leave a yelp review for free boba</td>\n",
       "      <td>[]</td>\n",
       "    </tr>\n",
       "    <tr>\n",
       "      <th>1</th>\n",
       "      <td>5</td>\n",
       "      <td>TL;DR: An affordable apartment complex with gr...</td>\n",
       "      <td>[leg, hen, side, cookie, tuna]</td>\n",
       "    </tr>\n",
       "    <tr>\n",
       "      <th>10</th>\n",
       "      <td>5</td>\n",
       "      <td>I'm writing this review because I noticed that...</td>\n",
       "      <td>[lemon, chicken, delicious]</td>\n",
       "    </tr>\n",
       "    <tr>\n",
       "      <th>11</th>\n",
       "      <td>2</td>\n",
       "      <td>TLDR: Over rated Mediterranean cuisine with de...</td>\n",
       "      <td>[cos, hare, roe, hen, chicken, side, tuna, pit...</td>\n",
       "    </tr>\n",
       "    <tr>\n",
       "      <th>12</th>\n",
       "      <td>3</td>\n",
       "      <td>I came in here initially about to order a burg...</td>\n",
       "      <td>[velveeta, cheese, joint, hen, patty, side, av...</td>\n",
       "    </tr>\n",
       "  </tbody>\n",
       "</table>\n",
       "</div>"
      ],
      "text/plain": [
       "    reviewRating                                        description  \\\n",
       "0              4                  Leave a yelp review for free boba   \n",
       "1              5  TL;DR: An affordable apartment complex with gr...   \n",
       "10             5  I'm writing this review because I noticed that...   \n",
       "11             2  TLDR: Over rated Mediterranean cuisine with de...   \n",
       "12             3  I came in here initially about to order a burg...   \n",
       "\n",
       "                                        containedFood  \n",
       "0                                                  []  \n",
       "1                      [leg, hen, side, cookie, tuna]  \n",
       "10                        [lemon, chicken, delicious]  \n",
       "11  [cos, hare, roe, hen, chicken, side, tuna, pit...  \n",
       "12  [velveeta, cheese, joint, hen, patty, side, av...  "
      ]
     },
     "execution_count": 40,
     "metadata": {},
     "output_type": "execute_result"
    }
   ],
   "source": [
    "userreviewdf.head()"
   ]
  },
  {
   "cell_type": "code",
   "execution_count": 41,
   "metadata": {},
   "outputs": [],
   "source": [
    "foodtoreviewunfiltered = {}\n",
    "for food in allfoods:\n",
    "    foodtoreviewunfiltered[food] = [{},list(userreviewdf[userreviewdf['containedFood'].map(lambda d: food in d)].index)]"
   ]
  },
  {
   "cell_type": "code",
   "execution_count": 42,
   "metadata": {},
   "outputs": [],
   "source": [
    "foodtoreview = {k:v for (k,v) in foodtoreviewunfiltered.items() if not len(v[1]) == 0}"
   ]
  },
  {
   "cell_type": "code",
   "execution_count": 43,
   "metadata": {},
   "outputs": [],
   "source": [
    "userrevscores = compute(foodtoreview,userreviewdf)"
   ]
  },
  {
   "cell_type": "code",
   "execution_count": 44,
   "metadata": {},
   "outputs": [
    {
     "data": {
      "text/plain": [
       "hen     6.673237\n",
       "meat    5.501807\n",
       "side    5.435801\n",
       "beef    4.733914\n",
       "cut     4.200232\n",
       "Name: totalscore, dtype: float64"
      ]
     },
     "execution_count": 44,
     "metadata": {},
     "output_type": "execute_result"
    }
   ],
   "source": [
    "userratings = pd.DataFrame(userrevscores).T\n",
    "userratings.columns = ['ratings','indexes']\n",
    "\n",
    "userratings['totalscore'] = userratings['ratings'].apply(lambda x: sum(x.values()))\n",
    "\n",
    "userratings['totalscore'].sort_values(ascending = False).head()"
   ]
  },
  {
   "cell_type": "code",
   "execution_count": 45,
   "metadata": {},
   "outputs": [],
   "source": [
    "for i in list(itemratings.index):\n",
    "    test = i.split(\" \")\n",
    "    test = [x.lower() for x in test]\n",
    "#     print(i)\n",
    "    for j in test:\n",
    "        if j in allfoods:\n",
    "#             print ('before',itemratings.loc[i]['totalscore'])\n",
    "            itemratings.at[i,'totalscore'] = itemratings.loc[i]['totalscore'] + 0.3 * userratings['totalscore'][test.index(j)]\n",
    "#             print ('after',itemratings.at[i,'totalscore'])\n",
    "#             print('\\n')"
   ]
  },
  {
   "cell_type": "code",
   "execution_count": 46,
   "metadata": {},
   "outputs": [
    {
     "data": {
      "text/plain": [
       "top notch pot the outlaws            1.458621\n",
       "sauerkraut fish and lamb pot         0.542195\n",
       "country style blood curd dish        1.329310\n",
       "beef pot                             1.360206\n",
       "and crispy chicken                   2.217620\n",
       "duck stew                            1.430896\n",
       "konjac beef                          0.090000\n",
       "lotus tofu                           1.168966\n",
       "three pepper beaten duck             2.107425\n",
       "tea smoked duck                      2.009795\n",
       "four joy lion head                   1.477299\n",
       "fragrant ribs                        1.268966\n",
       "northern boiling fish                1.973701\n",
       "sauerkraut fish pot                  1.604655\n",
       "chengdu style pot roasted tilapia    1.529310\n",
       "mala pot roasted tilapia             1.574015\n",
       "bean curd tilapia stew               0.501585\n",
       "pot roasted black bean tilapia       0.452195\n",
       "steamed tilapia                      1.543966\n",
       "sweet and sour crispy tilapia        1.514655\n",
       "scallion pot roasted tilapia         0.501585\n",
       "water boiled beef                    3.222911\n",
       "cumin beef                           2.182424\n",
       "black pepper beef                    2.151632\n",
       "mala beef tofu                       1.503218\n",
       "mongolian beef                       1.615172\n",
       "crispy mala beef                     2.017338\n",
       "baby pepper black bean beef          1.993826\n",
       "baby pepper and shredded beef        2.341631\n",
       "satay beef                           1.604655\n",
       "sauteed lamb with veggies            0.090000\n",
       "cumin lamb                           1.711688\n",
       "Name: totalscore, dtype: float64"
      ]
     },
     "execution_count": 46,
     "metadata": {},
     "output_type": "execute_result"
    }
   ],
   "source": [
    "itemratings['totalscore']"
   ]
  },
  {
   "cell_type": "code",
   "execution_count": 47,
   "metadata": {},
   "outputs": [],
   "source": [
    "\n",
    "min_max_scaler = preprocessing.MinMaxScaler()\n",
    "\n",
    "x = itemratings[['totalscore']].values.astype(float)\n",
    "# Create an object to transform the data to fit minmax processor\n",
    "itemrating_scaled = min_max_scaler.fit_transform(x)\n",
    "\n",
    "# Run the normalizer on the dataframe"
   ]
  },
  {
   "cell_type": "code",
   "execution_count": 48,
   "metadata": {},
   "outputs": [],
   "source": [
    "import math"
   ]
  },
  {
   "cell_type": "code",
   "execution_count": 49,
   "metadata": {},
   "outputs": [],
   "source": [
    "itemratings['totalscore'] = [math.ceil(10* x[0]) for x in itemrating_scaled]"
   ]
  },
  {
   "cell_type": "code",
   "execution_count": 50,
   "metadata": {},
   "outputs": [
    {
     "data": {
      "text/plain": [
       "top notch pot the outlaws             5\n",
       "sauerkraut fish and lamb pot          2\n",
       "country style blood curd dish         4\n",
       "beef pot                              5\n",
       "and crispy chicken                    7\n",
       "duck stew                             5\n",
       "konjac beef                           0\n",
       "lotus tofu                            4\n",
       "three pepper beaten duck              7\n",
       "tea smoked duck                       7\n",
       "four joy lion head                    5\n",
       "fragrant ribs                         4\n",
       "northern boiling fish                 7\n",
       "sauerkraut fish pot                   5\n",
       "chengdu style pot roasted tilapia     5\n",
       "mala pot roasted tilapia              5\n",
       "bean curd tilapia stew                2\n",
       "pot roasted black bean tilapia        2\n",
       "steamed tilapia                       5\n",
       "sweet and sour crispy tilapia         5\n",
       "scallion pot roasted tilapia          2\n",
       "water boiled beef                    10\n",
       "cumin beef                            7\n",
       "black pepper beef                     7\n",
       "mala beef tofu                        5\n",
       "mongolian beef                        5\n",
       "crispy mala beef                      7\n",
       "baby pepper black bean beef           7\n",
       "baby pepper and shredded beef         8\n",
       "satay beef                            5\n",
       "sauteed lamb with veggies             0\n",
       "cumin lamb                            6\n",
       "Name: totalscore, dtype: int64"
      ]
     },
     "execution_count": 50,
     "metadata": {},
     "output_type": "execute_result"
    }
   ],
   "source": [
    "itemratings['totalscore']"
   ]
  },
  {
   "cell_type": "code",
   "execution_count": null,
   "metadata": {},
   "outputs": [],
   "source": []
  },
  {
   "cell_type": "code",
   "execution_count": null,
   "metadata": {},
   "outputs": [],
   "source": []
  },
  {
   "cell_type": "code",
   "execution_count": 61,
   "metadata": {},
   "outputs": [
    {
     "name": "stdout",
     "output_type": "stream",
     "text": [
      "100.0 <class 'float'> budget\n",
      "True <class 'bool'> eats_meat\n",
      "['chili,', 'peanut'] <class 'list'> user_likes\n"
     ]
    }
   ],
   "source": [
    "pref = open('foodchoice.txt', \"r\")  # load user preferences txt\n",
    "pref_lines = pref.readlines()\n",
    "budget = float(pref_lines[0].strip())\n",
    "# budget = 100.0\n",
    "eats_meat = bool(pref_lines[1].strip())\n",
    "user_likes = (pref_lines[2].strip().split())\n",
    "print(budget,type(budget),'budget')\n",
    "print(eats_meat,type(eats_meat),'eats_meat')\n",
    "print(user_likes,type(user_likes),'user_likes')"
   ]
  },
  {
   "cell_type": "code",
   "execution_count": null,
   "metadata": {},
   "outputs": [],
   "source": []
  },
  {
   "cell_type": "code",
   "execution_count": 62,
   "metadata": {},
   "outputs": [
    {
     "name": "stdout",
     "output_type": "stream",
     "text": [
      "1.0 <class 'float'> budget\n",
      "False <class 'bool'> eats_meat\n",
      "['chili,', 'peanut'] <class 'list'> user_likes\n"
     ]
    }
   ],
   "source": [
    "pref = json.load(open('preferencesData.json', \"r\"))\n",
    "\n",
    "\n",
    "budget = float(pref['budget'].strip())\n",
    "# budget = 100.0\n",
    "eats_meat = bool(pref['diet-veg'].strip())\n",
    "eats_meat = not eats_meat\n",
    "user_likes = (pref['diet-exclude'].strip().split())\n",
    "\n",
    "print(budget,type(budget),'budget')\n",
    "print(eats_meat,type(eats_meat),'eats_meat')\n",
    "print(user_likes,type(user_likes),'user_likes')"
   ]
  },
  {
   "cell_type": "code",
   "execution_count": null,
   "metadata": {},
   "outputs": [],
   "source": []
  }
 ],
 "metadata": {
  "kernelspec": {
   "display_name": "Python 3",
   "language": "python",
   "name": "python3"
  },
  "language_info": {
   "codemirror_mode": {
    "name": "ipython",
    "version": 3
   },
   "file_extension": ".py",
   "mimetype": "text/x-python",
   "name": "python",
   "nbconvert_exporter": "python",
   "pygments_lexer": "ipython3",
   "version": "3.7.4"
  }
 },
 "nbformat": 4,
 "nbformat_minor": 2
}
